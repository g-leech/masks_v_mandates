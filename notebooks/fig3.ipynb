{
 "cells": [
  {
   "cell_type": "code",
   "execution_count": 1,
   "metadata": {},
   "outputs": [
    {
     "name": "stdout",
     "output_type": "stream",
     "text": [
      "Set Theano Environmental Variables for Parallelisation\n"
     ]
    }
   ],
   "source": [
    "import os\n",
    "os.environ['OMP_NUM_THREADS'] = '1'\n",
    "os.environ['MKL_NUM_THREADS'] = '1'\n",
    "os.environ['OPENBLAS_NUM_THREADS'] = '1'\n",
    "\n",
    "import numpy as np\n",
    "np.random.seed(123456)\n",
    "\n",
    "import sys; sys.path.append(\"..\")\n",
    "from epimodel import EpidemiologicalParameters\n",
    "from epimodel.pymc3_models.mask_models import RandomWalkMobilityModel, MandateMobilityModel\n",
    "from epimodel.preprocessing.preprocess_mask_data import Preprocess_masks\n",
    "import epimodel.viz.region_plot as rp\n",
    "import epimodel.viz.prior_posterior as pp\n",
    "import epimodel.viz.yougov as yg\n",
    "import epimodel.viz.pred_cases as pc\n",
    "import epimodel.viz.result_plot as rep\n",
    "import epimodel.viz.mandate_wearing as mw\n",
    "import epimodel.viz.empirical_wearing as ew\n",
    "\n",
    "import calendar \n",
    "import theano.tensor as T\n",
    "import theano.tensor.signal.conv as C\n",
    "import theano\n",
    "\n",
    "import pymc3 as pm\n",
    "import pandas as pd\n",
    "import copy\n",
    "import re\n",
    "import pickle\n",
    "import datetime\n",
    "from datetime import timedelta\n",
    "import argparse\n",
    "from pathlib import Path\n",
    "import matplotlib.dates as mdates\n",
    "import matplotlib.ticker as mtick\n",
    "\n",
    "import pickle \n",
    "import matplotlib.pyplot as plt\n",
    "import seaborn as sns\n",
    "import arviz as az\n",
    "sns.set(style=\"ticks\", font='DejaVu Serif')\n",
    "\n",
    "import json\n",
    "import matplotlib.gridspec as gridspec"
   ]
  },
  {
   "cell_type": "code",
   "execution_count": 2,
   "metadata": {
    "pycharm": {
     "name": "#%%\n"
    }
   },
   "outputs": [],
   "source": [
    "MODEL = \"cases\" #args.model\n",
    "MASKS = \"wearing\" #args.masks\n",
    "W_PAR = \"exp\" #args.w_par\n",
    "\n",
    "n_mandates = 2\n",
    "\n",
    "MOBI = 'include' # args.mob\n",
    "US = True\n",
    "SMOOTH = False\n",
    "GATHERINGS = 3 #args.gatherings if args.gatherings else 3\n",
    "# MASKING = True # Always true\n",
    "\n",
    "if MODEL == \"both\":\n",
    "    TUNING = 2500\n",
    "else:\n",
    "    TUNING = 2000\n",
    "\n",
    "Ds = pd.date_range(\"2020-05-01\", \"2020-09-21\", freq=\"D\")"
   ]
  },
  {
   "cell_type": "code",
   "execution_count": 3,
   "metadata": {},
   "outputs": [
    {
     "name": "stdout",
     "output_type": "stream",
     "text": [
      "['C1_School closing', 'C1_School closing_full', 'C2_Workplace closing', 'C2_Workplace closing_full', 'C4_Restrictions on gatherings_3plus', 'C6_Stay at home requirements', 'C7_Restrictions on internal movement', 'C4_Restrictions on gatherings_2plus', 'C4_Restrictions on gatherings_full', 'avg_mobility_no_parks_no_residential', 'percent_mc']\n",
      "Masking May cases in US states\n",
      "centering NPIs\n"
     ]
    }
   ],
   "source": [
    "# prep data object\n",
    "\n",
    "path = f\"../data/modelling_set/master_data_mob_{MOBI}_us_{US}_m_w.csv\"\n",
    "masks_object = Preprocess_masks(path=path)\n",
    "\n",
    "masks_object.featurize(gatherings=GATHERINGS, masks=MASKS, smooth=SMOOTH, mobility=MOBI, n_mandates = 2)\n",
    "masks_object.make_preprocessed_object()\n",
    "data = masks_object.data"
   ]
  },
  {
   "cell_type": "code",
   "execution_count": 4,
   "metadata": {
    "pycharm": {
     "name": "#%%\n"
    }
   },
   "outputs": [],
   "source": [
    "# just mobility\n",
    "path = \"../data/modelling_set/master_data_mob_include_us_True_m_w.csv\"\n",
    "mobility_data = pd.read_csv(path)\n",
    "mobility_data = mobility_data.set_index([\"country\", \"date\"])\n",
    "\n"
   ]
  },
  {
   "cell_type": "code",
   "execution_count": 5,
   "metadata": {},
   "outputs": [],
   "source": [
    "with open(\"../outputs/wearing_reduction_samples.txt\", \"r\") as f :\n",
    "    wred = f.read()\n",
    "    wred = np.array(wred.split(\"\\n\")[:-1]).astype(np.float64)\n",
    "\n",
    "with open(\"../outputs/mandate_reduction_samples.txt\", \"r\") as f :\n",
    "    mred = f.read()\n",
    "    mred = np.array(mred.split(\"\\n\")[:-1]).astype(np.float64)\n",
    "    \n",
    "    \n",
    "with open(\"../outputs/wearing_alpha_samples.txt\", \"r\") as f :\n",
    "    alpha = f.read()\n",
    "    alpha = np.array(alpha.split(\"\\n\")[:-1]).astype(np.float64)\n",
    "    \n",
    "with open('../outputs/validation_dicts.json') as f:\n",
    "    sa_dict_list = json.load(f)"
   ]
  },
  {
   "cell_type": "code",
   "execution_count": 6,
   "metadata": {},
   "outputs": [],
   "source": [
    "def main_result_posteriors(mred, wred, ax, both_runs=False):\n",
    "    if both_runs:\n",
    "        sns.kdeplot(wred, shade=True, ax=ax, label=\"wearing\")\n",
    "        sns.kdeplot(mred, label=\"mandate\", color=\"green\", shade=True, ax=ax)\n",
    "    else:\n",
    "        sns.kdeplot(wred, shade=True, ax=ax)\n",
    "        \n",
    "    ax.axvline(x=0, linestyle=\"-\", color=\"black\", alpha=0.2)\n",
    "    ax.set_xlabel(\"% $R$ reduction\\n(entire population masked)\", fontsize=7)\n",
    "    ax.set_xlim(-20, 60)\n",
    "    \n",
    "    #ax.legend()\n",
    "    #ax.tick_params(axis='both', which='both', labelsize=10)\n",
    "    \n",
    "    ax.tick_params(\n",
    "    axis='y',         \n",
    "    which='both',\n",
    "    #length=0\n",
    "    left=False\n",
    "    )\n",
    "    ax.yaxis.set_ticks([]) \n",
    "    \n",
    "    if both_runs:\n",
    "        handles, labels = ax.get_legend_handles_labels()\n",
    "        # sort both labels and handles by labels\n",
    "        labels, handles = zip(*sorted(zip(labels, handles), key=lambda t: t[0]))\n",
    "        ax.legend(handles, labels, fontsize=7, frameon=False)\n",
    "    \n",
    "    ax.set_ylabel(\"Posterior density\", fontsize=7)\n",
    "    ax.tick_params(axis='both', which='both', labelsize=8)\n",
    "\n",
    "\n",
    "def exp_reduction(a, x):\n",
    "    reductions = 1 - np.exp((-1.0) * a * x)\n",
    "    return reductions.mean()\n",
    "\n",
    "\n",
    "def get_median_reduction(a, df):\n",
    "    obs_ = []\n",
    "    r = exp_reduction\n",
    "\n",
    "    for c in df.reset_index().country.unique():\n",
    "        cdf = df.loc[c]\n",
    "        median_ = cdf.percent_mc.median()\n",
    "        med_reduction_r = r(a, median_)\n",
    "        actual = med_reduction_r\n",
    "        obs_.append(actual * 100)\n",
    "\n",
    "    return obs_\n",
    "    \n",
    "def plot_median_wearing_effect(df, alpha, ax):\n",
    "    obs_ = get_median_reduction(alpha, df)\n",
    "    print(np.percentile(obs_, [2.5, 50, 97.5]))\n",
    "    sns.distplot(obs_, kde=False, hist=True, kde_kws={\"shade\": True}, ax=ax)\n",
    "\n",
    "    ax.set_xlabel(\"% $R$ reduction (by regional wearing level)\", fontsize=7)\n",
    "    ax.set_ylabel(\"# of regions\", fontsize=7)\n",
    "    ax.yaxis.set_ticks([])\n",
    "    ax.set_xlim(0, 25)\n",
    "\n",
    "    med = np.median(obs_)\n",
    "    print(med)\n",
    "    ax.axvline(x=med, color=\"black\", linestyle=\"--\", label=\"median\")\n",
    "\n",
    "    ax.legend(fontsize=7, frameon=False, loc=\"upper left\")\n",
    "    ax.tick_params(axis='both', which='both', labelsize=8)\n",
    "    "
   ]
  },
  {
   "cell_type": "code",
   "execution_count": 15,
   "metadata": {},
   "outputs": [
    {
     "data": {
      "text/plain": [
       "59"
      ]
     },
     "execution_count": 15,
     "metadata": {},
     "output_type": "execute_result"
    }
   ],
   "source": [
    "len([d for d in sa_dict_list if d[\"npi\"] == \"Mask Wearing\"])\n",
    "#len(sa_dict_list)"
   ]
  },
  {
   "cell_type": "code",
   "execution_count": 10,
   "metadata": {
    "pycharm": {
     "name": "#%%\n"
    },
    "scrolled": false
   },
   "outputs": [
    {
     "ename": "ValueError",
     "evalue": "Could not interpret input 'medians'",
     "output_type": "error",
     "traceback": [
      "\u001b[0;31m---------------------------------------------------------------------------\u001b[0m",
      "\u001b[0;31mValueError\u001b[0m                                Traceback (most recent call last)",
      "\u001b[0;32m<ipython-input-10-87c0772ec2b4>\u001b[0m in \u001b[0;36m<module>\u001b[0;34m\u001b[0m\n\u001b[1;32m     47\u001b[0m         )\n\u001b[1;32m     48\u001b[0m \u001b[0;34m\u001b[0m\u001b[0m\n\u001b[0;32m---> 49\u001b[0;31m sns.stripplot(x=\"med\", y=\"medians\", data=medians, size=5, zorder=1,\n\u001b[0m\u001b[1;32m     50\u001b[0m           \u001b[0mjitter\u001b[0m\u001b[0;34m=\u001b[0m\u001b[0;36m0.1\u001b[0m\u001b[0;34m,\u001b[0m \u001b[0morder\u001b[0m\u001b[0;34m=\u001b[0m\u001b[0mnpi_names\u001b[0m\u001b[0;34m,\u001b[0m \u001b[0malpha\u001b[0m\u001b[0;34m=\u001b[0m\u001b[0;36m0.3\u001b[0m\u001b[0;34m,\u001b[0m \u001b[0mhue\u001b[0m\u001b[0;34m=\u001b[0m\u001b[0;34m\"tag\"\u001b[0m\u001b[0;34m,\u001b[0m \u001b[0mdodge\u001b[0m\u001b[0;34m=\u001b[0m\u001b[0;32mTrue\u001b[0m\u001b[0;34m,\u001b[0m\u001b[0;34m\u001b[0m\u001b[0;34m\u001b[0m\u001b[0m\n\u001b[1;32m     51\u001b[0m           palette=\"colorblind\", linewidth=0.05)\n",
      "\u001b[0;32m~/.cache/pypoetry/virtualenvs/epimodel-CmmTywaT-py3.8/lib/python3.8/site-packages/seaborn/categorical.py\u001b[0m in \u001b[0;36mstripplot\u001b[0;34m(x, y, hue, data, order, hue_order, jitter, dodge, orient, color, palette, size, edgecolor, linewidth, ax, **kwargs)\u001b[0m\n\u001b[1;32m   2781\u001b[0m         \u001b[0mwarnings\u001b[0m\u001b[0;34m.\u001b[0m\u001b[0mwarn\u001b[0m\u001b[0;34m(\u001b[0m\u001b[0mmsg\u001b[0m\u001b[0;34m,\u001b[0m \u001b[0mUserWarning\u001b[0m\u001b[0;34m)\u001b[0m\u001b[0;34m\u001b[0m\u001b[0;34m\u001b[0m\u001b[0m\n\u001b[1;32m   2782\u001b[0m \u001b[0;34m\u001b[0m\u001b[0m\n\u001b[0;32m-> 2783\u001b[0;31m     plotter = _StripPlotter(x, y, hue, data, order, hue_order,\n\u001b[0m\u001b[1;32m   2784\u001b[0m                             jitter, dodge, orient, color, palette)\n\u001b[1;32m   2785\u001b[0m     \u001b[0;32mif\u001b[0m \u001b[0max\u001b[0m \u001b[0;32mis\u001b[0m \u001b[0;32mNone\u001b[0m\u001b[0;34m:\u001b[0m\u001b[0;34m\u001b[0m\u001b[0;34m\u001b[0m\u001b[0m\n",
      "\u001b[0;32m~/.cache/pypoetry/virtualenvs/epimodel-CmmTywaT-py3.8/lib/python3.8/site-packages/seaborn/categorical.py\u001b[0m in \u001b[0;36m__init__\u001b[0;34m(self, x, y, hue, data, order, hue_order, jitter, dodge, orient, color, palette)\u001b[0m\n\u001b[1;32m   1126\u001b[0m                  jitter, dodge, orient, color, palette):\n\u001b[1;32m   1127\u001b[0m         \u001b[0;34m\"\"\"Initialize the plotter.\"\"\"\u001b[0m\u001b[0;34m\u001b[0m\u001b[0;34m\u001b[0m\u001b[0m\n\u001b[0;32m-> 1128\u001b[0;31m         \u001b[0mself\u001b[0m\u001b[0;34m.\u001b[0m\u001b[0mestablish_variables\u001b[0m\u001b[0;34m(\u001b[0m\u001b[0mx\u001b[0m\u001b[0;34m,\u001b[0m \u001b[0my\u001b[0m\u001b[0;34m,\u001b[0m \u001b[0mhue\u001b[0m\u001b[0;34m,\u001b[0m \u001b[0mdata\u001b[0m\u001b[0;34m,\u001b[0m \u001b[0morient\u001b[0m\u001b[0;34m,\u001b[0m \u001b[0morder\u001b[0m\u001b[0;34m,\u001b[0m \u001b[0mhue_order\u001b[0m\u001b[0;34m)\u001b[0m\u001b[0;34m\u001b[0m\u001b[0;34m\u001b[0m\u001b[0m\n\u001b[0m\u001b[1;32m   1129\u001b[0m         \u001b[0mself\u001b[0m\u001b[0;34m.\u001b[0m\u001b[0mestablish_colors\u001b[0m\u001b[0;34m(\u001b[0m\u001b[0mcolor\u001b[0m\u001b[0;34m,\u001b[0m \u001b[0mpalette\u001b[0m\u001b[0;34m,\u001b[0m \u001b[0;36m1\u001b[0m\u001b[0;34m)\u001b[0m\u001b[0;34m\u001b[0m\u001b[0;34m\u001b[0m\u001b[0m\n\u001b[1;32m   1130\u001b[0m \u001b[0;34m\u001b[0m\u001b[0m\n",
      "\u001b[0;32m~/.cache/pypoetry/virtualenvs/epimodel-CmmTywaT-py3.8/lib/python3.8/site-packages/seaborn/categorical.py\u001b[0m in \u001b[0;36mestablish_variables\u001b[0;34m(self, x, y, hue, data, orient, order, hue_order, units)\u001b[0m\n\u001b[1;32m    150\u001b[0m                 \u001b[0;32mif\u001b[0m \u001b[0misinstance\u001b[0m\u001b[0;34m(\u001b[0m\u001b[0mvar\u001b[0m\u001b[0;34m,\u001b[0m \u001b[0mstr\u001b[0m\u001b[0;34m)\u001b[0m\u001b[0;34m:\u001b[0m\u001b[0;34m\u001b[0m\u001b[0;34m\u001b[0m\u001b[0m\n\u001b[1;32m    151\u001b[0m                     \u001b[0merr\u001b[0m \u001b[0;34m=\u001b[0m \u001b[0;34m\"Could not interpret input '{}'\"\u001b[0m\u001b[0;34m.\u001b[0m\u001b[0mformat\u001b[0m\u001b[0;34m(\u001b[0m\u001b[0mvar\u001b[0m\u001b[0;34m)\u001b[0m\u001b[0;34m\u001b[0m\u001b[0;34m\u001b[0m\u001b[0m\n\u001b[0;32m--> 152\u001b[0;31m                     \u001b[0;32mraise\u001b[0m \u001b[0mValueError\u001b[0m\u001b[0;34m(\u001b[0m\u001b[0merr\u001b[0m\u001b[0;34m)\u001b[0m\u001b[0;34m\u001b[0m\u001b[0;34m\u001b[0m\u001b[0m\n\u001b[0m\u001b[1;32m    153\u001b[0m \u001b[0;34m\u001b[0m\u001b[0m\n\u001b[1;32m    154\u001b[0m             \u001b[0;31m# Figure out the plotting orientation\u001b[0m\u001b[0;34m\u001b[0m\u001b[0;34m\u001b[0m\u001b[0;34m\u001b[0m\u001b[0m\n",
      "\u001b[0;31mValueError\u001b[0m: Could not interpret input 'medians'"
     ]
    },
    {
     "data": {
      "image/png": "[encoded data removed]",
      "text/plain": [
       "<Figure size 856.3x428.15 with 1 Axes>"
      ]
     },
     "metadata": {},
     "output_type": "display_data"
    }
   ],
   "source": [
    "df = mobility_data\n",
    "PNAS_WIDTH_INCHES = 3.4252\n",
    "fig = plt.figure(figsize=(PNAS_WIDTH_INCHES,PNAS_WIDTH_INCHES *0.5), dpi=250)\n",
    "ax = plt.gca()\n",
    "sns.color_palette('colorblind')\n",
    "cols = sns.color_palette('colorblind')\n",
    "\n",
    "\n",
    "mandate_dict = {\n",
    "    'Mask Mandates': {\n",
    "        'npis': ['Mask Mandates'],\n",
    "        'type': 'include',\n",
    "        'color': 'grey',\n",
    "        'main': True,\n",
    "    }\n",
    "}\n",
    "\n",
    "\n",
    "dict_list = [d for d in sa_dict_list if d[\"npi\"] == \"Mask Mandates\"]\n",
    "medians = pd.DataFrame(dict_list)\n",
    "exp_tags = np.unique(medians[\"tag\"])\n",
    "cols = [*sns.color_palette('colorblind'), *sns.color_palette('bright')]\n",
    "\n",
    "npi_names = list(mandate_dict.keys())\n",
    "npi_cols = [d['color'] for k, d in mandate_dict.items()] #maybe this should be something else\n",
    "\n",
    "for i, col in enumerate(npi_cols):\n",
    "    if i % 2 == 0:\n",
    "        plt.fill_between(\n",
    "            [-100, 100],\n",
    "            [i-0.5, i-0.5],\n",
    "            [i+0.5, i+0.5],\n",
    "            color=col,\n",
    "            alpha=0,\n",
    "            linewidth=0,\n",
    "            zorder=-5\n",
    "        )\n",
    "    else:\n",
    "         plt.fill_between(\n",
    "            [-100, 100],\n",
    "            [i-0.5, i-0.5],\n",
    "            [i+0.5, i+0.5],\n",
    "            color=col,\n",
    "            alpha=0.1,\n",
    "            linewidth=0,\n",
    "            zorder=-5\n",
    "        )\n",
    "\n",
    "sns.stripplot(x=\"med\", y=\"medians\", data=medians, size=5, zorder=1,\n",
    "          jitter=0.1, order=npi_names, alpha=0.3, hue=\"tag\", dodge=True,\n",
    "          palette=\"colorblind\", linewidth=0.05)\n",
    "\n",
    "\n",
    "\n",
    "plt.yticks(fontsize=8, linespacing=0.8)\n",
    "plt.xticks(fontsize=8)\n",
    "\n",
    "plt.xlabel(\"Median reductions in $R$ (%)\", fontsize=8)\n",
    "plt.ylabel(\"\")\n",
    "plt.xlim([-30, 10])\n",
    "plt.grid(axis='x', linewidth=0.5, zorder=-10, color=\"tab:gray\", alpha=0.45)\n",
    "#plt.xticks([0, 10, 20, 30, 40])\n",
    "#plt.yticks(rotation=90)\n",
    "#plt.setp( ax3.yaxis.get_majorticklabels(), va=\"center\", ha=\"right\" )\n",
    "ax.set_yticklabels([\"\"])\n",
    "\n",
    "plt.legend(loc='center left', fontsize=6, ncol=1, frameon=False, fancybox=True, shadow=False)#, handletextpad=0.05)\n",
    "plt.title(\"D\", loc='left', fontweight=\"bold\")\n",
    "\n",
    "plt.tick_params(\n",
    "    axis='y',         \n",
    "    which='both',\n",
    "    #length=0\n",
    "    left=False\n",
    ")\n",
    "\n",
    "\n",
    "plt.savefig(\"../outputs/mandate_sa.pdf\", bbox_inches=\"tight\")"
   ]
  },
  {
   "cell_type": "code",
   "execution_count": null,
   "metadata": {},
   "outputs": [],
   "source": [
    "fig = plt.figure(figsize=(PNAS_WIDTH_INCHES *0.8,PNAS_WIDTH_INCHES* 0.5), dpi=250)\n",
    "ax = plt.gca()\n",
    "main_result_posteriors(mred, wred, ax=ax, both_runs=True)\n",
    "\n",
    "plt.savefig(\"../outputs/mandate_posterior.pdf\", bbox_inches=\"tight\")\n",
    "plt.show()"
   ]
  },
  {
   "cell_type": "markdown",
   "metadata": {},
   "source": [
    "## Mandate - wearing - transmission"
   ]
  },
  {
   "cell_type": "code",
   "execution_count": null,
   "metadata": {},
   "outputs": [],
   "source": [
    "x = 0.086\n",
    "\n",
    "\n",
    "lo = np.percentile(alpha, 2.5)\n",
    "hi = np.percentile(alpha, 97.5)\n",
    "\n",
    "1 - np.exp((-1.0) * lo * x), 1 - np.exp((-1.0) * hi * x)"
   ]
  }
 ],
 "metadata": {
  "kernelspec": {
   "display_name": "Python 3",
   "language": "python",
   "name": "python3"
  },
  "language_info": {
   "codemirror_mode": {
    "name": "ipython",
    "version": 3
   },
   "file_extension": ".py",
   "mimetype": "text/x-python",
   "name": "python",
   "nbconvert_exporter": "python",
   "pygments_lexer": "ipython3",
   "version": "3.8.5"
  }
 },
 "nbformat": 4,
 "nbformat_minor": 4
}
