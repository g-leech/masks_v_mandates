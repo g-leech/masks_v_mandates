{
 "cells": [
  {
   "cell_type": "code",
   "execution_count": 1,
   "metadata": {},
   "outputs": [
    {
     "name": "stdout",
     "output_type": "stream",
     "text": [
      "Set Theano Environmental Variables for Parallelisation\n"
     ]
    }
   ],
   "source": [
    "import os\n",
    "os.environ['OMP_NUM_THREADS'] = '1'\n",
    "os.environ['MKL_NUM_THREADS'] = '1'\n",
    "os.environ['OPENBLAS_NUM_THREADS'] = '1'\n",
    "\n",
    "import numpy as np\n",
    "np.random.seed(123456)\n",
    "\n",
    "import sys; sys.path.append(\"..\")\n",
    "from epimodel import EpidemiologicalParameters\n",
    "from epimodel.pymc3_models.mask_models import (\n",
    "    RandomWalkMobilityModel,\n",
    "    MandateMobilityModel\n",
    ")\n",
    "import epimodel.viz.mandate_wearing as mw\n",
    "\n",
    "from epimodel.preprocessing.preprocess_mask_data import Preprocess_masks\n",
    "import epimodel.viz.prior_posterior as pp\n",
    "\n",
    "import theano.tensor as T\n",
    "import theano.tensor.signal.conv as C\n",
    "import theano\n",
    "\n",
    "import pymc3 as pm\n",
    "import pandas as pd\n",
    "import copy\n",
    "import re\n",
    "import pickle\n",
    "import datetime\n",
    "from datetime import timedelta\n",
    "import argparse\n",
    "import json\n",
    "\n",
    "import matplotlib.pyplot as plt\n",
    "import seaborn as sns\n",
    "import arviz as az\n",
    "sns.set_style(\"white\")\n",
    "\n",
    "\n",
    "import epimodel.viz.region_plot as rp\n",
    "import epimodel.viz.prior_posterior as pp\n",
    "import epimodel.viz.pred_cases as pc\n",
    "import epimodel.viz.result_plot as rep\n",
    "import epimodel.viz.mandate_wearing as mw"
   ]
  },
  {
   "cell_type": "code",
   "execution_count": 2,
   "metadata": {},
   "outputs": [],
   "source": [
    "# argparser = argparse.ArgumentParser()\n",
    "# argparser.add_argument('--model', dest='model', type=str, help='Model type')\n",
    "# argparser.add_argument('--filter', dest='filtered', type=str, help='How to remove regions')\n",
    "# argparser.add_argument('--masks', dest='masks', type=str, help='Which mask feature')\n",
    "# argparser.add_argument('--w_par', dest='w_par', type=str, help='Which wearing parameterisation')\n",
    "# argparser.add_argument('--mob', dest='mob', type=str, help='Which wearing parameterisation')\n",
    "# args, _ = argparser.parse_known_args()\n",
    "\n",
    "MODEL = \"cases\" #args.model\n",
    "FILTERED = \"nofilter\" #args.filtered\n",
    "MASKS = \"wearing\" #args.masks\n",
    "W_PAR = \"exp\" # None\n",
    "\n",
    "MOBI = 'include' # args.mob\n",
    "US = True\n",
    "SMOOTH = False\n",
    "GATHERINGS = 3 #args.gatherings if args.gatherings else 3\n",
    "# MASKING = True # Always true\n",
    "\n",
    "TUNING = 1000\n",
    "DRAWS = 700\n",
    "CHAINS = 4\n",
    "\n",
    "if MASKS == \"mandate\":\n",
    "    n_mandates = 2\n",
    "    \n",
    "GRADUAL = False"
   ]
  },
  {
   "cell_type": "code",
   "execution_count": 3,
   "metadata": {},
   "outputs": [
    {
     "name": "stdout",
     "output_type": "stream",
     "text": [
      "../data/modelling_set/master_data_mob_include_us_True_m_w.csv\n"
     ]
    }
   ],
   "source": [
    "path = f\"../data/modelling_set/master_data_mob_{MOBI}_us_{US}_m_w.csv\"\n",
    "print(path)\n",
    "masks_object = Preprocess_masks(path=path)"
   ]
  },
  {
   "cell_type": "code",
   "execution_count": 4,
   "metadata": {},
   "outputs": [
    {
     "name": "stdout",
     "output_type": "stream",
     "text": [
      "../data/modelling_set/master_data_mob_include_us_True_m_w.csv\n",
      "wearing\n",
      "['C1_School closing', 'C1_School closing_full', 'C2_Workplace closing', 'C2_Workplace closing_full', 'C4_Restrictions on gatherings_3plus', 'C6_Stay at home requirements', 'C7_Restrictions on internal movement', 'C4_Restrictions on gatherings_2plus', 'C4_Restrictions on gatherings_full', 'avg_mobility_no_parks_no_residential', 'percent_mc']\n",
      "Masking May cases in US states\n",
      "centering NPIs\n"
     ]
    }
   ],
   "source": [
    "# prep data object\n",
    "\n",
    "if GRADUAL:\n",
    "    path = f\"../data/modelling_set/master_data_gradual_mandates{DAYS}.csv\"\n",
    "else:\n",
    "    path = f\"../data/modelling_set/master_data_mob_{MOBI}_us_{US}_m_w.csv\"\n",
    "print(path)\n",
    "masks_object = Preprocess_masks(path=path)"
   ]
  },
  {
   "cell_type": "code",
   "execution_count": 15,
   "metadata": {},
   "outputs": [
    {
     "name": "stderr",
     "output_type": "stream",
     "text": [
      "/home/gleech/.cache/pypoetry/virtualenvs/epimodel-CmmTywaT-py3.8/lib/python3.8/site-packages/pandas/core/indexing.py:1743: SettingWithCopyWarning: \n",
      "A value is trying to be set on a copy of a slice from a DataFrame.\n",
      "Try using .loc[row_indexer,col_indexer] = value instead\n",
      "\n",
      "See the caveats in the documentation: https://pandas.pydata.org/pandas-docs/stable/user_guide/indexing.html#returning-a-view-versus-a-copy\n",
      "  isetter(ilocs[0], value)\n"
     ]
    },
    {
     "name": "stdout",
     "output_type": "stream",
     "text": [
      "wearing\n",
      "['C1_School closing', 'C1_School closing_full', 'C2_Workplace closing', 'C2_Workplace closing_full', 'C4_Restrictions on gatherings_3plus', 'C6_Stay at home requirements', 'C7_Restrictions on internal movement', 'C4_Restrictions on gatherings_2plus', 'C4_Restrictions on gatherings_full', 'avg_mobility_no_parks_no_residential', 'percent_mc']\n",
      "Masking May cases in US states\n",
      "centering NPIs\n",
      "How many regions?: 92\n"
     ]
    }
   ],
   "source": [
    "# sigma^2 = marginal variance\n",
    "# std = resulting noise variance\n",
    "def noise(last_noise, timescale=7, variance=0.1):\n",
    "    mean = (1 - (1/timescale)) * last_noise\n",
    "    variance = (2 * variance) / timescale\n",
    "    std = np.sqrt(variance)\n",
    "    \n",
    "    return np.random.normal(mean, std)\n",
    "\n",
    "\n",
    "Ds = pd.date_range(\"2020-05-01\", \"2020-09-21\", freq=\"D\")\n",
    "Rs = masks_object.df.reset_index().country.unique()\n",
    "\n",
    "def generate_noise(lt=0, scale=14, variance=0.1):\n",
    "    noises = []\n",
    "    for t in range(1, len(Ds)+1):\n",
    "        if t % scale == 0 :\n",
    "            lt = noise(lt)\n",
    "        \n",
    "        noises.append(lt)\n",
    "    \n",
    "    return np.array(noises)\n",
    "\n",
    "\n",
    "def ascertainment_rate(lt):\n",
    "    scaling = np.exp(lt + 1)\n",
    "    return 1/scaling\n",
    "\n",
    "\n",
    "def scale_cases(df, noises) :\n",
    "    for r in Rs:\n",
    "        rdf = df[df.country == r]\n",
    "        \n",
    "        for i, lt in enumerate(noises):\n",
    "            scaling = np.exp(1 + lt)\n",
    "\n",
    "            t = Ds[i].strftime(\"%Y-%m-%d\")\n",
    "            cases = rdf.loc[rdf['Date'] == t, 'ConfirmedCases']  \n",
    "            rdf.loc[rdf['Date'] == t, 'ConfirmedCases'] = cases * scaling\n",
    "        \n",
    "        df[df.country == r] = rdf\n",
    "    \n",
    "    return df\n",
    "\n",
    "daily_noises = generate_noise()\n",
    "copy = masks_object.df.copy().reset_index()\n",
    "masks_object.df = scale_cases(copy, daily_noises) \\\n",
    "                    .set_index([\"country\", \"Date\"])\n",
    "\n",
    "if MASKS == \"mandate\":\n",
    "    masks_object.featurize(gatherings=GATHERINGS, masks=MASKS, smooth=SMOOTH, mobility=MOBI, drop_rs=True, n_mandates=n_mandates)\n",
    "if MASKS == \"wearing\":\n",
    "    print(MASKS)\n",
    "    masks_object.featurize(gatherings=GATHERINGS, masks=MASKS, smooth=SMOOTH, mobility=MOBI, drop_rs=True)#, country_leavout_inds=inds)\n",
    "\n",
    "masks_object.make_preprocessed_object()\n",
    "data = masks_object.data\n",
    "\n",
    "print(\"How many regions?:\", len(data.Rs))"
   ]
  },
  {
   "cell_type": "code",
   "execution_count": null,
   "metadata": {},
   "outputs": [],
   "source": [
    "if MASKS == \"mandate\":\n",
    "    masks_object.featurize(gatherings=GATHERINGS, masks=MASKS, smooth=SMOOTH, mobility=MOBI, drop_rs=True, n_mandates=n_mandates)\n",
    "if MASKS == \"wearing\":\n",
    "    print(MASKS)\n",
    "    masks_object.featurize(gatherings=GATHERINGS, masks=MASKS, smooth=SMOOTH, mobility=MOBI, drop_rs=True)#, country_leavout_inds=inds)\n",
    "\n",
    "masks_object.make_preprocessed_object()\n",
    "data = masks_object.data"
   ]
  },
  {
   "cell_type": "code",
   "execution_count": 5,
   "metadata": {},
   "outputs": [
    {
     "name": "stdout",
     "output_type": "stream",
     "text": [
      "How many regions?: 92\n",
      "How many NPIs?: 11\n",
      "How many days?: 144\n"
     ]
    },
    {
     "data": {
      "text/plain": [
       "['C1_School closing',\n",
       " 'C1_School closing_full',\n",
       " 'C2_Workplace closing',\n",
       " 'C2_Workplace closing_full',\n",
       " 'C4_Restrictions on gatherings_3plus',\n",
       " 'C6_Stay at home requirements',\n",
       " 'C7_Restrictions on internal movement',\n",
       " 'C4_Restrictions on gatherings_2plus',\n",
       " 'C4_Restrictions on gatherings_full',\n",
       " 'avg_mobility_no_parks_no_residential',\n",
       " 'percent_mc']"
      ]
     },
     "execution_count": 5,
     "metadata": {},
     "output_type": "execute_result"
    }
   ],
   "source": [
    "print(\"How many regions?:\", len(data.Rs))\n",
    "print(\"How many NPIs?:\", len(data.CMs))\n",
    "print(\"How many days?:\", len(data.Ds))\n",
    "\n",
    "#len(data.Rs)* (len(data.Ds) - 30)\n",
    "data.CMs"
   ]
  },
  {
   "cell_type": "code",
   "execution_count": 6,
   "metadata": {},
   "outputs": [
    {
     "name": "stdout",
     "output_type": "stream",
     "text": [
      "{'gi_mean_mean': 5.06, 'gi_mean_sd': 0.3265, 'gi_sd_mean': 2.11, 'gi_sd_sd': 0.5, 'cases_delay_mean_mean': 10.92830227448381, 'cases_delay_mean_sd': 0.9387435298564465, 'cases_delay_disp_mean': 5.406593726647138, 'cases_delay_disp_sd': 0.2689502951493133, 'log_init_mean': 5.457455587886334, 'log_init_sd': 5.457455587886334, 'wearing_parameterisation': 'exp'}\n",
      "exp\n"
     ]
    },
    {
     "name": "stderr",
     "output_type": "stream",
     "text": [
      "/home/gleech/.cache/pypoetry/virtualenvs/epimodel-CmmTywaT-py3.8/lib/python3.8/site-packages/numpy/core/fromnumeric.py:748: UserWarning: Warning: 'partition' will ignore the 'mask' of the MaskedArray.\n",
      "  a.partition(kth, axis=axis, kind=kind, order=order)\n"
     ]
    }
   ],
   "source": [
    "# model specification\n",
    "ep = EpidemiologicalParameters()\n",
    "bd = ep.get_model_build_dict()\n",
    "\n",
    "\n",
    "def set_init_infections(data, d):\n",
    "    n_masked_days = 10\n",
    "    first_day_new = data.NewCases[:, n_masked_days]\n",
    "    first_day_new = first_day_new[first_day_new.mask == False]\n",
    "    median_init_size = np.median(first_day_new)\n",
    "\n",
    "    if median_init_size == 0:\n",
    "        median_init_size = 50\n",
    "\n",
    "    d[\"log_init_mean\"] = np.log(median_init_size)\n",
    "    d[\"log_init_sd\"] = np.log(median_init_size)  # TODO: wide\n",
    "\n",
    "\n",
    "set_init_infections(data, bd)\n",
    "\n",
    "bd['wearing_parameterisation'] = W_PAR\n",
    "\n",
    "\n",
    "if MODEL == \"cases\":\n",
    "    del bd[\"deaths_delay_mean_mean\"]\n",
    "    del bd[\"deaths_delay_mean_sd\"]\n",
    "    del bd[\"deaths_delay_disp_mean\"]\n",
    "    del bd[\"deaths_delay_disp_sd\"]\n",
    "\n",
    "    \n",
    "if MASKS == \"mandate\":\n",
    "    bd['n_mandates'] = 1\n",
    "    #bd['mask_mean'] = 0.2 / bd['n_mandates']\n",
    "    bd['mask_sigma'] = 0.2\n",
    "    \n",
    "print(bd)\n",
    "print(W_PAR)"
   ]
  },
  {
   "cell_type": "code",
   "execution_count": 7,
   "metadata": {},
   "outputs": [
    {
     "name": "stdout",
     "output_type": "stream",
     "text": [
      "10429\n",
      "Argument: cases_delay_mean_sd not being used\n",
      "Argument: cases_delay_disp_sd not being used\n",
      "exp\n"
     ]
    },
    {
     "name": "stderr",
     "output_type": "stream",
     "text": [
      "Auto-assigning NUTS sampler...\n",
      "Initializing NUTS using adapt_diag...\n",
      "Multiprocess sampling (4 chains in 4 jobs)\n",
      "NUTS: [Psi, InitialSize_log, GI_sd, GI_mean, r_walk_noise, r_walk_noise_scale, RegionR_noise, HyperRVar, HyperRMean, Mobility_Alpha, Wearing_Alpha, CM_Alpha]\n"
     ]
    },
    {
     "data": {
      "text/html": [
       "\n",
       "    <div>\n",
       "        <style>\n",
       "            /* Turns off some styling */\n",
       "            progress {\n",
       "                /* gets rid of default border in Firefox and Opera. */\n",
       "                border: none;\n",
       "                /* Needs to be in here for Safari polyfill so background images work as expected. */\n",
       "                background-size: auto;\n",
       "            }\n",
       "            .progress-bar-interrupted, .progress-bar-interrupted::-webkit-progress-bar {\n",
       "                background: #F44336;\n",
       "            }\n",
       "        </style>\n",
       "      <progress value='6000' class='' max='6000' style='width:300px; height:20px; vertical-align: middle;'></progress>\n",
       "      100.00% [6000/6000 3:03:39<00:00 Sampling 4 chains, 1 divergences]\n",
       "    </div>\n",
       "    "
      ],
      "text/plain": [
       "<IPython.core.display.HTML object>"
      ]
     },
     "metadata": {},
     "output_type": "display_data"
    },
    {
     "name": "stderr",
     "output_type": "stream",
     "text": [
      "Sampling 4 chains for 1_000 tune and 500 draw iterations (4_000 + 2_000 draws total) took 11021 seconds.\n",
      "There was 1 divergence after tuning. Increase `target_accept` or reparameterize.\n",
      "The number of effective samples is smaller than 25% for some parameters.\n"
     ]
    }
   ],
   "source": [
    "if MASKS == \"wearing\":\n",
    "    with RandomWalkMobilityModel(data) as model:\n",
    "        model.build_model(**bd)\n",
    "        \n",
    "elif MASKS == \"mandate\":\n",
    "    with MandateMobilityModel(data) as model:\n",
    "        model.build_model(**bd)\n",
    "    \n",
    "\n",
    "MASS = 'adapt_diag' \n",
    "\n",
    "with model:\n",
    "    model.trace = pm.sample(\n",
    "        DRAWS,\n",
    "        tune=TUNING,\n",
    "        cores=CHAINS,\n",
    "        chains=CHAINS,\n",
    "        max_treedepth=12,\n",
    "        target_accept=0.9,\n",
    "        init=MASS,\n",
    "    )"
   ]
  },
  {
   "cell_type": "code",
   "execution_count": 11,
   "metadata": {},
   "outputs": [],
   "source": [
    "trace = model.trace"
   ]
  },
  {
   "cell_type": "code",
   "execution_count": 12,
   "metadata": {},
   "outputs": [
    {
     "data": {
      "text/plain": [
       "2000"
      ]
     },
     "execution_count": 12,
     "metadata": {},
     "output_type": "execute_result"
    }
   ],
   "source": [
    "def get_total_samples(t) :\n",
    "    l = str(t).replace(\"<MultiTrace: \", \"\").split(\",\")\n",
    "    return int(l[0].split()[0]) * int(l[1].split()[0])\n",
    "\n",
    "get_total_samples(trace)"
   ]
  },
  {
   "cell_type": "code",
   "execution_count": 13,
   "metadata": {},
   "outputs": [],
   "source": [
    "import arviz as az\n",
    "ess = az.ess(trace)\n",
    "rhat = az.rhat(trace)\n"
   ]
  },
  {
   "cell_type": "code",
   "execution_count": null,
   "metadata": {},
   "outputs": [],
   "source": [
    "varnames = trace.varnames\n",
    "reds = [v for v in varnames if \"reduction\" in v]\n",
    "vs_minus_logs = [v for v in varnames if v not in reds ]\n",
    "vs = [\"Psi\", \"InitialSize_log\", \"GI_sd\", \"GI_mean\", \"r_walk_noise\", \"r_walk_noise_scale\", \"RegionR_noise\", \"HyperRVar\", \"HyperRMean\", \"Mobility_Alpha\", \"Wearing_Alpha\", \"CM_Alpha\"]\n",
    "\n",
    "def collate(stat, varnames):\n",
    "    stat_all = []\n",
    "    stat_nums = []\n",
    "    for var in varnames :\n",
    "        if stat[str(var)].size > 1:\n",
    "            stat_all.append(stat[str(var)].to_dataframe().to_numpy().flatten())\n",
    "        else:\n",
    "            stat_nums.append(float(stat[str(var)]))\n",
    "    \n",
    "    stat_all = np.concatenate(np.array(stat_all))\n",
    "    stat_all = np.concatenate([stat_all, stat_nums])\n",
    "    # stat_all[stat_all > 100] = 1\n",
    "    return stat_all\n",
    "\n",
    "def diagnostics(tr) :\n",
    "    for r in tr.varnames :\n",
    "        rhat = pm.rhat(tr)[r]\n",
    "        print(f'Rhat({r}) = {rhat}')\n",
    "\n",
    "cols = sns.cubehelix_palette(3, start=0.2, light=0.6, dark=0.1, rot=0.2)\n",
    "\n",
    "PNAS_WIDTH_INCHES = 3.4252\n",
    "\n",
    "def plot_sampler_stats(rhat, ess, vars_, t):\n",
    "    plt.figure(figsize=(PNAS_WIDTH_INCHES * 1.5, 2), dpi=200)\n",
    "    plt.subplot(121)\n",
    "    plt.hist(collate(rhat, vars_), bins=40, color=cols[0])\n",
    "    plt.xlabel(\"$\\hat{R}$\", fontsize=8)\n",
    "    ax = plt.gca()\n",
    "    ymax = ax.get_ylim()[1]\n",
    "    if ymax > 1000 :\n",
    "        ylabels = ['{:,.0f}'.format(x) + 'k' for x in ax.axes.get_yticks()/1000]\n",
    "        ax.set_yticklabels(ylabels)\n",
    "    #ylabels = ['{:,.0f}'.format(x) for x in plt.gca().axes.get_yticks()]\n",
    "\n",
    "    ax.xaxis.set_major_formatter(FormatStrFormatter('%.3f'))\n",
    "\n",
    "    plt.ylabel(\"# of parameters\", fontsize=8)\n",
    "\n",
    "    plt.subplot(122)\n",
    "    plt.hist(collate(ess, vars_), bins=40, color=cols[0]) # / samples\n",
    "    #plt.xlim() # [0,2] \n",
    "    plt.gca().axes.get_yaxis().set_visible(False)\n",
    "    plt.xlabel(\"ESS\", fontsize=8) \n",
    "    plt.tight_layout()\n",
    "    plt.suptitle(t + \"\\n\", y=1.05)\n",
    "\n",
    "\n",
    "plot_sampler_stats(rhat, ess, varnames, t=\"learned parameters\")\n",
    "plot_sampler_stats(rhat, ess, vs, t=\"learned parameters\")\n",
    "plot_sampler_stats(rhat, ess, vs_minus_logs, t=\"all parameters (learned + derived)\")\n",
    "#plot_sampler_stats(rhat, ess, [\"Wearing_Alpha\", \"WearingReduction\", \"CM_Alpha\"], t=\"wearing\")\n",
    "\n",
    "plt.savefig(\"../outputs/mcmc_wearing.pdf\", bbox_inches=\"tight\")\n"
   ]
  },
  {
   "cell_type": "code",
   "execution_count": 9,
   "metadata": {},
   "outputs": [
    {
     "ename": "OSError",
     "evalue": "[Errno 5] Input/output error",
     "output_type": "error",
     "traceback": [
      "\u001b[0;31m---------------------------------------------------------------------------\u001b[0m",
      "\u001b[0;31mOSError\u001b[0m                                   Traceback (most recent call last)",
      "\u001b[0;32m<ipython-input-9-3879463ce17f>\u001b[0m in \u001b[0;36m<module>\u001b[0;34m\u001b[0m\n\u001b[1;32m      7\u001b[0m     \u001b[0midstr\u001b[0m \u001b[0;34m=\u001b[0m \u001b[0;34mf\"pickles/{MASKS}_2and3_{MODEL}_countries_{len(Rs)}_{dt}\"\u001b[0m\u001b[0;34m\u001b[0m\u001b[0;34m\u001b[0m\u001b[0m\n\u001b[1;32m      8\u001b[0m \u001b[0;34m\u001b[0m\u001b[0m\n\u001b[0;32m----> 9\u001b[0;31m \u001b[0mpickle\u001b[0m\u001b[0;34m.\u001b[0m\u001b[0mdump\u001b[0m\u001b[0;34m(\u001b[0m\u001b[0mmodel\u001b[0m\u001b[0;34m.\u001b[0m\u001b[0mtrace\u001b[0m\u001b[0;34m,\u001b[0m \u001b[0mopen\u001b[0m\u001b[0;34m(\u001b[0m\u001b[0midstr\u001b[0m \u001b[0;34m+\u001b[0m \u001b[0;34m\".pkl\"\u001b[0m\u001b[0;34m,\u001b[0m \u001b[0;34m'wb'\u001b[0m\u001b[0;34m)\u001b[0m\u001b[0;34m)\u001b[0m\u001b[0;34m\u001b[0m\u001b[0;34m\u001b[0m\u001b[0m\n\u001b[0m\u001b[1;32m     10\u001b[0m \u001b[0;34m\u001b[0m\u001b[0m\n\u001b[1;32m     11\u001b[0m \u001b[0;32mwith\u001b[0m \u001b[0mopen\u001b[0m\u001b[0;34m(\u001b[0m\u001b[0midstr\u001b[0m \u001b[0;34m+\u001b[0m \u001b[0;34m\"_cols\"\u001b[0m\u001b[0;34m,\u001b[0m \u001b[0;34m\"w\"\u001b[0m\u001b[0;34m)\u001b[0m \u001b[0;32mas\u001b[0m \u001b[0mf\u001b[0m\u001b[0;34m:\u001b[0m\u001b[0;34m\u001b[0m\u001b[0;34m\u001b[0m\u001b[0m\n",
      "\u001b[0;31mOSError\u001b[0m: [Errno 5] Input/output error"
     ]
    }
   ],
   "source": [
    "dt = datetime.datetime.now().strftime(\"%m-%d-%H:%M\")\n",
    "Rs = data.Rs\n",
    "\n",
    "if MASKS == 'wearing':\n",
    "    idstr = f\"pickles/only_15plus_wearing_range_{MASKS}_{W_PAR}_{MODEL}_countries_{len(Rs)}_{dt}\"\n",
    "else:\n",
    "    idstr = f\"pickles/{MASKS}_2and3_{MODEL}_countries_{len(Rs)}_{dt}\"\n",
    "\n",
    "pickle.dump(model.trace, open(idstr + \".pkl\", 'wb'))\n",
    "\n",
    "with open(idstr + \"_cols\", \"w\") as f:\n",
    "    f.write( \", \".join(data.CMs) )"
   ]
  },
  {
   "cell_type": "code",
   "execution_count": null,
   "metadata": {},
   "outputs": [],
   "source": [
    "var = [\"CMReduction\"]\n",
    "if MASKS == \"wearing\" :\n",
    "    var += [\"WearingReduction\"]\n",
    "else :\n",
    "    var += [\"MandateReduction\"]\n",
    "var += [\"MobilityReduction\"]\n",
    "\n",
    "#var += [\"HyperRVar\", \"HyperRMean\"]\n",
    "\n",
    "s = pm.summary(model.trace, var_names=var, hdi_prob=0.95)\n",
    "#npi_cols = data.CMs[:-2] + [data.CMs[-1]] + [data.CMs[-2]]\n",
    "#s.index = npi_cols\n",
    "s"
   ]
  },
  {
   "cell_type": "code",
   "execution_count": null,
   "metadata": {},
   "outputs": [],
   "source": [
    "1 - np.median(model.trace.WearingReduction)"
   ]
  },
  {
   "cell_type": "code",
   "execution_count": 14,
   "metadata": {},
   "outputs": [
    {
     "data": {
      "image/png": "[encoded data removed]",
      "text/plain": [
       "<Figure size 432x288 with 1 Axes>"
      ]
     },
     "metadata": {},
     "output_type": "display_data"
    }
   ],
   "source": [
    "def main_result_posteriors(wred, ax):\n",
    "    sns.kdeplot(wred, shade=True, ax=ax)\n",
    "        \n",
    "    ax.axvline(x=0, linestyle=\"-\", color=\"black\", alpha=0.2)\n",
    "    ax.set_xlabel(\"% $R$ reduction\\n(entire population masked)\", fontsize=17)\n",
    "    #ax.set_xlim(-20, 60)\n",
    "    \n",
    "    #ax.legend()\n",
    "    #ax.tick_params(axis='both', which='both', labelsize=10)\n",
    "    \n",
    "    ax.tick_params(\n",
    "    axis='y',         \n",
    "    which='both',\n",
    "    #length=0\n",
    "    left=False\n",
    "    )\n",
    "    ax.yaxis.set_ticks([]) \n",
    "    \n",
    "    ax.set_ylabel(\"Posterior density\", fontsize=17)\n",
    "    ax.tick_params(axis='both', which='both', labelsize=18)\n",
    "    \n",
    "ax = plt.gca()\n",
    "main_result_posteriors((1 - trace.WearingReduction.reshape(2000,)) * 100, ax)"
   ]
  },
  {
   "cell_type": "code",
   "execution_count": null,
   "metadata": {},
   "outputs": [],
   "source": [
    "s = pm.summary(model.trace, var_names=[\"HyperRVar\", \"HyperRMean\", \"r_walk_noise_scale\"], hdi_prob=0.95)\n",
    "#s = pm.summary(model.trace, var_names=[\"Wearing_HyperV\"], hdi_prob=0.95)\n",
    "\n",
    "s"
   ]
  },
  {
   "cell_type": "code",
   "execution_count": null,
   "metadata": {},
   "outputs": [],
   "source": [
    "def main_result_posteriors(grad, old, ax, both_runs=False):\n",
    "    sns.kdeplot(grad, label=\"7 day\", color=\"green\", shade=True, ax=ax)\n",
    "    sns.kdeplot(old, label=\"0 day\", color=\"blue\", shade=True, ax=ax)\n",
    "        \n",
    "    ax.axvline(x=0, linestyle=\"-\", color=\"black\", alpha=0.2)\n",
    "    ax.set_xlabel(\"% $R$ reduction\", fontsize=7)\n",
    "    ax.set_xlim(-20, 60)\n",
    "    \n",
    "    #ax.legend()\n",
    "    #ax.tick_params(axis='both', which='both', labelsize=10)\n",
    "    \n",
    "    ax.tick_params(\n",
    "    axis='y',         \n",
    "    which='both',\n",
    "    #length=0\n",
    "    left=False\n",
    "    )\n",
    "    ax.yaxis.set_ticks([]) \n",
    "    \n",
    "    if both_runs:\n",
    "        handles, labels = ax.get_legend_handles_labels()\n",
    "        # sort both labels and handles by labels\n",
    "        labels, handles = zip(*sorted(zip(labels, handles), key=lambda t: t[0]))\n",
    "        ax.legend(handles, labels, fontsize=7, frameon=False)\n",
    "    \n",
    "    ax.set_ylabel(\"Posterior density\", fontsize=7)\n",
    "    ax.tick_params(axis='both', which='both', labelsize=8)\n",
    "    plt.title(\"Gradual mandate\")\n",
    "\n",
    "    \n",
    "with open(\"../outputs/mandate_reduction_samples.txt\", \"r\") as f :\n",
    "    mred = f.read()\n",
    "    mred = np.array(mred.split(\"\\n\")[:-1]).astype(np.float64)\n",
    "    \n",
    "PNAS_WIDTH_INCHES = 3.4252\n",
    "fig = plt.figure(figsize=(PNAS_WIDTH_INCHES,PNAS_WIDTH_INCHES *0.5), dpi=250)\n",
    "red = (1 - trace.MandateReduction.flatten()) * 100\n",
    "ax = plt.gca()\n",
    "main_result_posteriors(red, mred, ax)\n",
    "plt.savefig(f\"../outputs/gradual_posterior.pdf\", bbox_inches=\"tight\")"
   ]
  },
  {
   "cell_type": "code",
   "execution_count": null,
   "metadata": {
    "scrolled": true
   },
   "outputs": [],
   "source": [
    "for region in data.Rs :\n",
    "    pc.epicurve_plot(data, oxcgrt, trace, region)\n",
    "\n"
   ]
  },
  {
   "cell_type": "code",
   "execution_count": null,
   "metadata": {},
   "outputs": [],
   "source": [
    "pp.plot_all_pps(trace)"
   ]
  }
 ],
 "metadata": {
  "kernelspec": {
   "display_name": "Python 3",
   "language": "python",
   "name": "python3"
  },
  "language_info": {
   "codemirror_mode": {
    "name": "ipython",
    "version": 3
   },
   "file_extension": ".py",
   "mimetype": "text/x-python",
   "name": "python",
   "nbconvert_exporter": "python",
   "pygments_lexer": "ipython3",
   "version": "3.8.5"
  }
 },
 "nbformat": 4,
 "nbformat_minor": 4
}
